{
 "cells": [
  {
   "cell_type": "code",
   "execution_count": null,
   "id": "57c2fbbc",
   "metadata": {},
   "outputs": [],
   "source": [
    "import sqlite3\n",
    "from sqlalchemy import create_engine\n",
    "\n",
    "conn = sqlite3.connect('books.db')\n",
    "c = conn.cursor()\n",
    "c.execute('''\n",
    "    CREATE TABLE books\n",
    "    (title text, author text, year integer)\n",
    "''')\n",
    "conn.commit()\n",
    "conn.close()\n",
    "\n",
    "engine = create_engine('sqlite:///books.db')\n",
    "with engine.connect() as connection:\n",
    "    result = connection.execute(\"SELECT title FROM books ORDER BY title ASC\")\n",
    "titles = result.fetchall()\n",
    "for title in titles:\n",
    "    print(title[0])"
   ]
  }
 ],
 "metadata": {
  "kernelspec": {
   "display_name": "Python 3 (ipykernel)",
   "language": "python",
   "name": "python3"
  },
  "language_info": {
   "codemirror_mode": {
    "name": "ipython",
    "version": 3
   },
   "file_extension": ".py",
   "mimetype": "text/x-python",
   "name": "python",
   "nbconvert_exporter": "python",
   "pygments_lexer": "ipython3",
   "version": "3.11.4"
  }
 },
 "nbformat": 4,
 "nbformat_minor": 5
}
